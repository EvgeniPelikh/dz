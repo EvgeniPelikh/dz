{
 "cells": [
  {
   "cell_type": "code",
   "execution_count": null,
   "id": "0203874d",
   "metadata": {},
   "outputs": [],
   "source": [
    "import pandas as pd"
   ]
  },
  {
   "cell_type": "code",
   "execution_count": null,
   "id": "3b2a75e6",
   "metadata": {},
   "outputs": [],
   "source": [
    "### Задание 1"
   ]
  },
  {
   "cell_type": "code",
   "execution_count": null,
   "id": "7f8e0f2c",
   "metadata": {},
   "outputs": [],
   "source": [
    "df = pd.read_csv('visit_log.csv', sep = ';')\n",
    "def source_type(row):\n",
    "    if row['traffic_source'] == 'paid' or row['traffic_source'] == 'email':\n",
    "        if row['region'] == 'Russia':\n",
    "            el = 'ad'\n",
    "        else:\n",
    "            el = 'other'\n",
    "    elif row['traffic_source'] == 'yandex' or row['traffic_source'] == 'google':\n",
    "        el = 'organic'\n",
    "    elif row['region'] != 'Russia':\n",
    "        el = 'other'\n",
    "    else:\n",
    "        el = row['traffic_source']\n",
    "    return el\n",
    "\n",
    "df['source_type'] = df.apply(source_type, axis = 1)\n",
    "df"
   ]
  },
  {
   "cell_type": "code",
   "execution_count": null,
   "id": "163648a0",
   "metadata": {},
   "outputs": [],
   "source": [
    "### Задание 2"
   ]
  },
  {
   "cell_type": "code",
   "execution_count": null,
   "id": "1fb0dee2",
   "metadata": {},
   "outputs": [],
   "source": [
    "import re"
   ]
  },
  {
   "cell_type": "code",
   "execution_count": null,
   "id": "0aa1b850",
   "metadata": {},
   "outputs": [],
   "source": [
    "df_2 = pd.read_csv('URLs.txt')\n",
    "df_2 = df_2[df_2['url'].str.contains(r'\\W\\d{8}\\W')]\n",
    "df_2"
   ]
  },
  {
   "cell_type": "code",
   "execution_count": null,
   "id": "27f25ccd",
   "metadata": {},
   "outputs": [],
   "source": [
    "### Задание 3"
   ]
  },
  {
   "cell_type": "code",
   "execution_count": null,
   "id": "d055748c",
   "metadata": {},
   "outputs": [],
   "source": [
    "df_3 = pd.read_csv('ml-latest-small/ratings.csv')\n",
    "numbers = df_3.groupby('userId').count()\n",
    "numbers.drop(numbers[numbers.movieId < 100].index, inplace = True)\n",
    "numbers.reset_index(inplace = True)\n",
    "\n",
    "def counting(row):\n",
    "    return max(df_3.loc[df_3['userId'] == row['userId']]['timestamp']) - min(df_3.loc[df_3['userId'] == row['userId']]['timestamp'])\n",
    "\n",
    "numbers['lifetime'] = numbers.apply(counting, axis = 1)\n",
    "numbers = numbers.drop(['movieId', 'rating', 'timestamp'], axis = 1)\n",
    "\n",
    "numbers"
   ]
  },
  {
   "cell_type": "code",
   "execution_count": null,
   "id": "e8be3160",
   "metadata": {},
   "outputs": [],
   "source": [
    "### Задание 4"
   ]
  },
  {
   "cell_type": "code",
   "execution_count": null,
   "id": "118f14ae",
   "metadata": {},
   "outputs": [],
   "source": [
    "rzd = pd.DataFrame(\n",
    "    {\n",
    "        'client_id': [111, 112, 113, 114, 115],\n",
    "        'rzd_revenue': [1093, 2810, 10283, 5774, 981]\n",
    "    }\n",
    ")\n",
    "auto = pd.DataFrame(\n",
    "    {\n",
    "        'client_id': [113, 114, 115, 116, 117],\n",
    "        'auto_revenue': [57483, 83, 912, 4834, 98]\n",
    "    }\n",
    ")\n",
    "air = pd.DataFrame(\n",
    "    {\n",
    "        'client_id': [115, 116, 117, 118],\n",
    "        'air_revenue': [81, 4, 13, 173]\n",
    "    }\n",
    ")\n",
    "client_base = pd.DataFrame(\n",
    "    {\n",
    "        'client_id': [111, 112, 113, 114, 115, 116, 117, 118],\n",
    "        'address': ['Комсомольская 4', 'Энтузиастов 8а', 'Левобережная 1а', 'Мира 14', 'ЗЖБИиДК 1', \n",
    "                    'Строителей 18', 'Панфиловская 33', 'Мастеркова 4']\n",
    "    }\n",
    ")"
   ]
  },
  {
   "cell_type": "code",
   "execution_count": null,
   "id": "282105d1",
   "metadata": {},
   "outputs": [],
   "source": [
    "_ = rzd.join(auto.set_index('client_id'), on = 'client_id', how = 'outer')\n",
    "full = _.join(air.set_index('client_id'), on = 'client_id', how = 'outer')\n",
    "full"
   ]
  },
  {
   "cell_type": "code",
   "execution_count": null,
   "id": "508fc999",
   "metadata": {},
   "outputs": [],
   "source": [
    "full_adress = full.join(client_base.set_index('client_id'), on = 'client_id', how = 'outer')\n",
    "full_adress.reset_index(inplace = True)\n",
    "full_adress.drop('index', axis = 1, inplace = True)\n",
    "full_adress"
   ]
  }
 ],
 "metadata": {
  "kernelspec": {
   "display_name": "Python 3 (ipykernel)",
   "language": "python",
   "name": "python3"
  },
  "language_info": {
   "codemirror_mode": {
    "name": "ipython",
    "version": 3
   },
   "file_extension": ".py",
   "mimetype": "text/x-python",
   "name": "python",
   "nbconvert_exporter": "python",
   "pygments_lexer": "ipython3",
   "version": "3.10.9"
  }
 },
 "nbformat": 4,
 "nbformat_minor": 5
}
